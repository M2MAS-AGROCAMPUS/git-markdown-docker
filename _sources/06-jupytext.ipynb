{
 "cells": [
  {
   "cell_type": "markdown",
   "metadata": {
    "slideshow": {
     "slide_type": "slide"
    }
   },
   "source": [
    "# Jupytext et pandoc\n",
    "\n",
    "Jupytext est un outil de conversion de format des notebooks. Il permet de synchroniser des \n",
    "notebooks au format ipynb avec des scripts commentés (Julia, Python ou R), ou en fichier markdown.\n",
    "\n",
    "Pandoc est un outil de conversion des fichiers markdown vers des formats d'édition ou d'impression comme html, pdf, latex ou word."
   ]
  },
  {
   "cell_type": "markdown",
   "metadata": {
    "slideshow": {
     "slide_type": "slide"
    }
   },
   "source": [
    "## Installlation\n",
    "\n",
    "```\n",
    "conda install -c conda-forge jupytext\n",
    "```\n",
    "ou\n",
    "```\n",
    "pip install jupytext\n",
    "```"
   ]
  },
  {
   "cell_type": "markdown",
   "metadata": {
    "slideshow": {
     "slide_type": "slide"
    }
   },
   "source": [
    "## Jupytext\n",
    "\n",
    "La commande`jupytext` permet de convertir un notebook dans differents formats:\n",
    "\n",
    "```bash\n",
    "jupytext --to py notebook.ipynb                 # convert notebook.ipynb to a .py file\n",
    "jupytext --to markdown notebook.ipynb           # convert notebook.ipynb to a .md file\n",
    "```"
   ]
  },
  {
   "cell_type": "markdown",
   "metadata": {
    "slideshow": {
     "slide_type": "slide"
    }
   },
   "source": [
    "```bash\n",
    "jupytext --to notebook notebook.py              # convert notebook.py to an .ipynb file with no outputs\n",
    "jupytext --update --to notebook notebook.py     # update the input cells in the .ipynb file and preserve outputs and metadata\n",
    "\n",
    "jupytext --to md --test notebook.ipynb          # Test round trip conversion\n",
    "```"
   ]
  },
  {
   "cell_type": "markdown",
   "metadata": {
    "slideshow": {
     "slide_type": "slide"
    }
   },
   "source": [
    "### Convertir le notebook Python en markdown\n",
    "\n",
    "```bash\n",
    "jupytext --to markdown 08-example-python.ipynb\n",
    "```\n"
   ]
  },
  {
   "cell_type": "markdown",
   "metadata": {
    "slideshow": {
     "slide_type": "fragment"
    }
   },
   "source": [
    "### Convertir le notebook Python en script python\n",
    "\n",
    "```bash\n",
    "jupytext --to script 08-example-python.ipynb\n",
    "```\n"
   ]
  },
  {
   "cell_type": "markdown",
   "metadata": {
    "slideshow": {
     "slide_type": "slide"
    }
   },
   "source": [
    "### Convertir le notebook R en script R\n",
    "\n",
    "```bash\n",
    "jupytext --to R 10-example-r.ipynb\n",
    "```\n",
    "\n"
   ]
  },
  {
   "cell_type": "markdown",
   "metadata": {
    "slideshow": {
     "slide_type": "fragment"
    }
   },
   "source": [
    "### Convertir le notebook R en fichier Rmd\n",
    "\n",
    "```bash\n",
    "jupytext --to Rmd 10-example-r.ipynb\n",
    "```\n",
    "\n",
    "\n",
    "```bash\n",
    "jupytext --to ipynb 10-example-r.Rmd\n",
    "```\n",
    "\n",
    "\n"
   ]
  },
  {
   "cell_type": "markdown",
   "metadata": {
    "slideshow": {
     "slide_type": "slide"
    }
   },
   "source": [
    "### Convertir le notebook Julia en script julia\n",
    "\n",
    "```bash\n",
    "jupytext --to jl 07-example-julia.ipynb\n",
    "```\n",
    "\n",
    "\n"
   ]
  },
  {
   "cell_type": "markdown",
   "metadata": {
    "slideshow": {
     "slide_type": "slide"
    }
   },
   "source": [
    "### Synchronisation\n",
    "\n",
    "```bash\n",
    "jupytext --set-formats ipynb,py notebook.ipynb  # Turn notebook.ipynb into a paired ipynb/py notebook\n",
    "jupytext --sync notebook.ipynb \n",
    "```\n",
    "\n",
    "Jupytext verifie les dates des fichiers"
   ]
  },
  {
   "cell_type": "markdown",
   "metadata": {
    "slideshow": {
     "slide_type": "slide"
    }
   },
   "source": [
    "## Pandoc"
   ]
  },
  {
   "cell_type": "markdown",
   "metadata": {
    "slideshow": {
     "slide_type": "fragment"
    }
   },
   "source": [
    "```bash\n",
    "pandoc -s 07-exemple-julia.ipynb -o example-julia.html\n",
    "```"
   ]
  },
  {
   "cell_type": "markdown",
   "metadata": {
    "slideshow": {
     "slide_type": "fragment"
    }
   },
   "source": [
    "```bash\n",
    "pandoc -s 07-exemple-julia.ipynb --pdf-engine=xelatex -o example-julia.pdf\n",
    "```"
   ]
  },
  {
   "cell_type": "markdown",
   "metadata": {
    "slideshow": {
     "slide_type": "fragment"
    }
   },
   "source": [
    "```bash\n",
    "pandoc -t beamer 01-jupyter.ipynb -o example8.pdf\n",
    "```"
   ]
  },
  {
   "cell_type": "markdown",
   "metadata": {
    "slideshow": {
     "slide_type": "fragment"
    }
   },
   "source": [
    "```bash\n",
    "pandoc -s 09-exemple-r.ipynb -o example-r.docx\n",
    "```"
   ]
  },
  {
   "cell_type": "markdown",
   "metadata": {
    "slideshow": {
     "slide_type": "slide"
    }
   },
   "source": [
    "**[Très très nombreuses possibilités](https://pandoc.org/demos.html)**"
   ]
  }
 ],
 "metadata": {
  "@webio": {
   "lastCommId": null,
   "lastKernelId": null
  },
  "celltoolbar": "Slideshow",
  "kernelspec": {
   "display_name": "Python 3",
   "language": "python",
   "name": "python3"
  },
  "language_info": {
   "codemirror_mode": {
    "name": "ipython",
    "version": 3
   },
   "file_extension": ".py",
   "mimetype": "text/x-python",
   "name": "python",
   "nbconvert_exporter": "python",
   "pygments_lexer": "ipython3",
   "version": "3.8.5"
  }
 },
 "nbformat": 4,
 "nbformat_minor": 2
}
