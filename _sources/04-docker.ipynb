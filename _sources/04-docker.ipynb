{
 "cells": [
  {
   "cell_type": "markdown",
   "metadata": {
    "slideshow": {
     "slide_type": "slide"
    }
   },
   "source": [
    "# Docker\n",
    "\n",
    "<img width=200 src=\"images/Moby-logo.png\">"
   ]
  },
  {
   "cell_type": "markdown",
   "metadata": {
    "slideshow": {
     "slide_type": "slide"
    }
   },
   "source": [
    "## Conteneur\n",
    "\n",
    "Technologie logicielle datant de 2013 permettant d'éxécuter un système d'exploitation isolé et automatisé dans un autre système. La technique est proche de la virtualisation mais sans l'inconvénient de la latence.\n",
    "\n",
    "Un conteneur permet également de sauvegarder l'état d'un ordinateur à un instant donné et de pouvoir rédemmarrer de cet état à tout moment.\n",
    "\n",
    "**Attention l'utilisation de docker nécessite une bonne connexion internet et beaucoup d'espace disque.**"
   ]
  },
  {
   "cell_type": "markdown",
   "metadata": {
    "slideshow": {
     "slide_type": "slide"
    }
   },
   "source": [
    "\n",
    "## Points forts\n",
    "\n",
    "- Installation très simple <https://www.docker.com/get-started>\n",
    "- Ligne de commande facile à utiliser (`docker help`)\n",
    "- Beaucoup de possibilités ( hébergement web, cloud, intégration continue, ...)\n"
   ]
  },
  {
   "cell_type": "markdown",
   "metadata": {
    "slideshow": {
     "slide_type": "slide"
    }
   },
   "source": [
    "## Docker en 1 ligne\n",
    "\n",
    "Pour vérifier que docker est bien installé\n",
    "\n",
    "```bash\n",
    "docker run helloworld\n",
    "```\n",
    "\n",
    "```bash\n",
    "docker run --rm -it -v $PWD:/work ubuntu /bin/bash\n",
    "```\n",
    "- `run` : on veut lancer le conteneur\n",
    "- `-it` : on veut un terminal et être interactif avec lui \n",
    "- `ubuntu` : l’image à utiliser pour ce conteneur \n",
    "- `/bin/bash` : commande éxécutée au démarrage qui permet l'interactivité\n",
    "- `-v $PWD:/work` : le répertoire courant sera monté dans l'image docker sous la racine `/work`\n"
   ]
  },
  {
   "cell_type": "markdown",
   "metadata": {
    "slideshow": {
     "slide_type": "slide"
    }
   },
   "source": [
    "## Les étapes du démarrage d'un image docker\n",
    "\n",
    "- Recherche de l’image -> Si l’image n’existe pas en local, alors téléchargement via le hub. Construction du système de fichiers.\n",
    "- Démarrage du container\n",
    "- Configuration de l’adresse IP du container -> Ainsi que de la communication entre l’extérieur et le conteneur\n",
    "- Capture des messages entrées-sorties"
   ]
  },
  {
   "cell_type": "markdown",
   "metadata": {
    "slideshow": {
     "slide_type": "slide"
    }
   },
   "source": [
    "## Principales commandes sur linux\n",
    "\n",
    "```\n",
    "sudo /usr/bin/docker -d & # run the daemon\n",
    "sudo docker search ubuntu # give ubuntu images from public index \n",
    "sudo docker pull ubuntu # pull latest ubuntu images\n",
    "sudo docker history ubuntu # view history for this images\n",
    "sudo docker images # show local images\n",
    "docker ps # show active containers\n",
    "sudo docker logs ubuntu\n",
    "sudo docker attach ubuntu # retake the hand on the container\n",
    "sudo docker run -d -p 8888:80 ubuntu # export 8888 on master\n",
    "sudo docker stop # SIGTERM suivi d’un SIGKILL\n",
    "sudo docker kill # SIGKILL directement\n",
    "```"
   ]
  },
  {
   "cell_type": "markdown",
   "metadata": {
    "slideshow": {
     "slide_type": "slide"
    }
   },
   "source": [
    "## Création d'images Docker\n",
    "\n",
    "Il est possible de créer une image docker en utilisant des commandes en ligne mais préférez la méthode du fichier Dockerfile qui vous permettra de conserver les etapes et une trace de la procédure."
   ]
  },
  {
   "cell_type": "markdown",
   "metadata": {
    "slideshow": {
     "slide_type": "slide"
    }
   },
   "source": [
    "### Dockerfile rocker/shiny"
   ]
  },
  {
   "cell_type": "markdown",
   "metadata": {
    "slideshow": {
     "slide_type": "fragment"
    }
   },
   "source": [
    "```dockerfile\n",
    "FROM rocker/r-ver:3.6.3\n",
    "```"
   ]
  },
  {
   "cell_type": "markdown",
   "metadata": {
    "slideshow": {
     "slide_type": "slide"
    }
   },
   "source": [
    "```dockerfile\n",
    "RUN apt-get update && apt-get install -y \\\n",
    "    sudo \\\n",
    "    gdebi-core \\\n",
    "    pandoc \\\n",
    "    pandoc-citeproc \\\n",
    "    libcurl4-gnutls-dev \\\n",
    "    libcairo2-dev \\\n",
    "    libxt-dev \\\n",
    "    xtail \\\n",
    "    wget\n",
    "```"
   ]
  },
  {
   "cell_type": "markdown",
   "metadata": {
    "slideshow": {
     "slide_type": "slide"
    }
   },
   "source": [
    "```dockerfile\n",
    "# Download and install shiny server\n",
    "RUN wget --no-verbose https://download3.rstudio.org/ubuntu-14.04/x86_64/VERSION -O \"version.txt\" && \\\n",
    "    VERSION=$(cat version.txt)  && \\\n",
    "    wget --no-verbose \"https://download3.rstudio.org/ubuntu-14.04/x86_64/shiny-server-$VERSION-amd64.deb\" -O ss-latest.deb && \\\n",
    "    gdebi -n ss-latest.deb && \\\n",
    "    rm -f version.txt ss-latest.deb && \\\n",
    "    . /etc/environment && \\\n",
    "    R -e \"install.packages(c('shiny', 'rmarkdown'), repos='$MRAN')\" && \\\n",
    "    cp -R /usr/local/lib/R/site-library/shiny/examples/* /srv/shiny-server/ && \\\n",
    "    chown shiny:shiny /var/lib/shiny-server\n",
    "```"
   ]
  },
  {
   "cell_type": "markdown",
   "metadata": {
    "slideshow": {
     "slide_type": "slide"
    }
   },
   "source": [
    "```dockerfile\n",
    "EXPOSE 3838\n",
    "```"
   ]
  },
  {
   "cell_type": "markdown",
   "metadata": {
    "slideshow": {
     "slide_type": "fragment"
    }
   },
   "source": [
    "```dockerfile\n",
    "COPY shiny-server.sh /usr/bin/shiny-server.sh\n",
    "```"
   ]
  },
  {
   "cell_type": "markdown",
   "metadata": {
    "slideshow": {
     "slide_type": "fragment"
    }
   },
   "source": [
    "```dockerfile\n",
    "CMD [\"/usr/bin/shiny-server.sh\"]\n",
    "```"
   ]
  },
  {
   "cell_type": "markdown",
   "metadata": {
    "slideshow": {
     "slide_type": "slide"
    }
   },
   "source": [
    "## Instructions\n",
    "\n",
    "Les instructions sont peu nombreuses : FROM, RUN, CMD, LABEL, MAINTAINER, EXPOSE, ENV, ADD, COPY, ENTRYPOINT , VOLUME, USER, WORKDIR, ARG, ONBUILD, STOPSIGNAL, HEALTHCHECK, SHELL\n",
    "\n",
    "- Pour chaque instruction RUN, un conteneur temporaire (8xxxxxxxx) est créé depuis l’image de base.\n",
    "- La commande RUN est exécutée dans ce conteneur,\n",
    "- Le conteneur est commité en une image intermédiaire (7yyyyyyyy),\n",
    "- Le conteneur intermédiaire (8xxxxxxxx) est supprim ́e, Le résultat, l’image intermédiaire, servira d’image de base pour l’ ́etape suivante,\n",
    "etc.."
   ]
  },
  {
   "cell_type": "markdown",
   "metadata": {
    "slideshow": {
     "slide_type": "slide"
    }
   },
   "source": [
    "## Docker Hub\n",
    "\n",
    "Site public permettant de sauvegarder et partager ses images docker (registry), il faut:\n",
    "\n",
    "- Déposer son fichier Dockerfile sur un dépôt github\n",
    "- Créer une image docker sur <https://hub.docker.com> et lier cette image au dépôt github\n",
    "- Chaque modification sur le dépôt va mettre à jour l'image\n",
    "    \n",
    "    "
   ]
  }
 ],
 "metadata": {
  "@webio": {
   "lastCommId": null,
   "lastKernelId": null
  },
  "celltoolbar": "Slideshow",
  "jupytext": {
   "encoding": "# -*- coding: utf-8 -*-",
   "formats": "ipynb,../src//py"
  },
  "kernelspec": {
   "display_name": "Python 3",
   "language": "python",
   "name": "python3"
  },
  "language_info": {
   "codemirror_mode": {
    "name": "ipython",
    "version": 3
   },
   "file_extension": ".py",
   "mimetype": "text/x-python",
   "name": "python",
   "nbconvert_exporter": "python",
   "pygments_lexer": "ipython3",
   "version": "3.8.5"
  }
 },
 "nbformat": 4,
 "nbformat_minor": 2
}
