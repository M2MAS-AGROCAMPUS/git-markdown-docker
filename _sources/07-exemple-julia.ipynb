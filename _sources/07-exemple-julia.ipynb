{
 "cells": [
  {
   "cell_type": "markdown",
   "metadata": {},
   "source": [
    "# Example Julia\n",
    "\n",
    "## Documentation de fonction"
   ]
  },
  {
   "cell_type": "code",
   "execution_count": null,
   "metadata": {},
   "outputs": [],
   "source": [
    "\"\"\"\n",
    "    bspline(p, j, x)\n",
    "\n",
    "Return the value at x in [0,1[ of the B-spline with integer nodes of degree p with support starting at j.\n",
    "Implemented recursively using the [De Boor's Algorithm](https://en.wikipedia.org/wiki/De_Boor%27s_algorithm)\n",
    "\n",
    "```math\n",
    "B_{i,0}(x) := \\\\left\\\\{\n",
    "\\\\begin{matrix}\n",
    "1 & \\\\mathrm{if}  \\\\quad t_i ≤ x < t_{i+1} \\\\\\\\\n",
    "0 & \\\\mathrm{otherwise} \n",
    "\\\\end{matrix}\n",
    "\\\\right.\n",
    "```\n",
    "\n",
    "```math\n",
    "B_{i,p}(x) := \\\\frac{x - t_i}{t_{i+p} - t_i} B_{i,p-1}(x) \n",
    "+ \\\\frac{t_{i+p+1} - x}{t_{i+p+1} - t_{i+1}} B_{i+1,p-1}(x).\n",
    "```\n",
    "\"\"\"\n",
    "function bspline(p::Int, j::Int, x::Float64)\n",
    "   if p == 0\n",
    "       if j == 0\n",
    "           return 1.0\n",
    "       else\n",
    "           return 0.0\n",
    "       end\n",
    "   else\n",
    "       w = (x - j) / p\n",
    "       w1 = (x - j - 1) / p\n",
    "   end\n",
    "   return (w * bspline(p - 1, j, x) + (1 - w1) * bspline(p - 1, j + 1, x))\n",
    "end"
   ]
  },
  {
   "cell_type": "markdown",
   "metadata": {},
   "source": [
    "Switch the next cell from `Markdown` to `Code` format"
   ]
  },
  {
   "cell_type": "markdown",
   "metadata": {},
   "source": [
    "?bspline"
   ]
  },
  {
   "cell_type": "code",
   "execution_count": null,
   "metadata": {
    "lines_to_next_cell": 0
   },
   "outputs": [],
   "source": [
    "using Random, Plots\n",
    "\n",
    "function generate_data( n = 2000, seed = 1234 )\n",
    "    seuil = 0.25\n",
    "    rng = MersenneTwister(seed)\n",
    "    X1 = rand( rng, n)\n",
    "    X2 = rand( rng, n)\n",
    "    U  = rand( rng, n)\n",
    "    Y  = zeros(Int,n)\n",
    "    Y[(X1 .<= 0.25) .& (U  .<= seuil)] .= 1\n",
    "    Y[(X1 .>  0.25) .& (X2 .>= 0.75) .& (U .<= seuil)] .= 1\n",
    "    Y[(X1 .>  0.25) .& (X2 .<  0.75) .& (U .>  seuil)] .= 1\n",
    "    return X1, X2, Y\n",
    "end\n",
    "\n",
    "X1, X2, Y = generate_data()\n",
    "scatter(X1,X2, marker_z = Y)"
   ]
  },
  {
   "cell_type": "code",
   "execution_count": null,
   "metadata": {},
   "outputs": [],
   "source": [
    "using DataFrames, StatsPlots"
   ]
  },
  {
   "cell_type": "code",
   "execution_count": null,
   "metadata": {},
   "outputs": [],
   "source": [
    "data = DataFrame( X1=X1, X2=X2, Y=Y)\n",
    "head(data)"
   ]
  },
  {
   "cell_type": "code",
   "execution_count": null,
   "metadata": {
    "lines_to_next_cell": 2
   },
   "outputs": [],
   "source": [
    "@df data scatter(:X1,:X2, zcolor= :Y, xaxis = \"X1\", yaxis=\"X2\", lab=\"Y\")"
   ]
  },
  {
   "cell_type": "code",
   "execution_count": null,
   "metadata": {},
   "outputs": [],
   "source": [
    "\"\"\"\n",
    "[x1,x2,x1^2,x1x2,x2^2……x2^6]\n",
    "\"\"\"\n",
    "function map_features(X1,X2)\n",
    "    degree = 6\n",
    "    out = ones(size(X1[:,1]))\n",
    "    for i=1:6\n",
    "        for j=0:i\n",
    "            out = hcat(out,(X1.^(i-j)).*(X2.^j))\n",
    "        end\n",
    "    end\n",
    "    return out\n",
    "end"
   ]
  },
  {
   "cell_type": "code",
   "execution_count": null,
   "metadata": {},
   "outputs": [],
   "source": [
    "X = map_features(X1,X2)"
   ]
  },
  {
   "cell_type": "code",
   "execution_count": null,
   "metadata": {},
   "outputs": [],
   "source": []
  }
 ],
 "metadata": {
  "jupytext": {
   "cell_metadata_filter": "-all",
   "encoding": "# -*- coding: utf-8 -*-",
   "formats": "jl:light,notebooks//ipynb"
  },
  "kernelspec": {
   "display_name": "Julia 1.5.0",
   "language": "julia",
   "name": "julia-1.5"
  }
 },
 "nbformat": 4,
 "nbformat_minor": 4
}
