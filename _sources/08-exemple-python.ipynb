{
 "cells": [
  {
   "cell_type": "markdown",
   "metadata": {},
   "source": [
    "# Exemple Python"
   ]
  },
  {
   "cell_type": "markdown",
   "metadata": {},
   "source": [
    "## Documentation de fonction"
   ]
  },
  {
   "cell_type": "code",
   "execution_count": null,
   "metadata": {},
   "outputs": [],
   "source": [
    "def bspline(p, j, x):\n",
    "     \"\"\"\n",
    "    Return the value at x in [0,1[ of the B-spline with integer nodes of degree p with support starting at j.\n",
    "    Implemented recursively using the [De Boor's Algorithm](https://en.wikipedia.org/wiki/De_Boor%27s_algorithm)\n",
    "\n",
    "    .. math::\n",
    "        B_{i,0}(x) := \\left\\{\n",
    "        \\begin{matrix}\n",
    "        1 & \\mathrm{if}  \\quad t_i ≤ x < t_{i+1} \\\\\n",
    "        0 & \\mathrm{otherwise} \n",
    "        \\end{matrix}\n",
    "        \\right.\n",
    "\n",
    "    .. math::\n",
    "            B_{i,p}(x) := \\frac{x - t_i}{t_{i+p} - t_i} B_{i,p-1}(x) \n",
    "            + \\frac{t_{i+p+1} - x}{t_{i+p+1} - t_{i+1}} B_{i+1,p-1}(x).\n",
    "\n",
    "     \"\"\"\n",
    "\n",
    "     assert ((x >= 0.0) & (x <= 1.0))\n",
    "     assert ((type(p) == int) & (type(j) == int))\n",
    "\n",
    "     if p == 0:\n",
    "         if j == 0:\n",
    "             return 1.0\n",
    "         else:\n",
    "             return 0.0\n",
    "     else:\n",
    "         w = (x - j) / p\n",
    "         w1 = (x - j - 1) / p\n",
    "         return w * bspline(p - 1, j, x) + (1 - w1) * bspline(p - 1, j + 1, x)"
   ]
  },
  {
   "cell_type": "code",
   "execution_count": null,
   "metadata": {},
   "outputs": [],
   "source": [
    "# print(bspline.__doc__)"
   ]
  },
  {
   "cell_type": "code",
   "execution_count": null,
   "metadata": {},
   "outputs": [],
   "source": [
    "import numpy as np\n",
    "import matplotlib.pyplot as plt\n",
    "from matplotlib.colors import ListedColormap\n",
    "import pandas as pd\n",
    "import seaborn as sns"
   ]
  },
  {
   "cell_type": "code",
   "execution_count": null,
   "metadata": {},
   "outputs": [],
   "source": []
  },
  {
   "cell_type": "code",
   "execution_count": null,
   "metadata": {
    "lines_to_next_cell": 2
   },
   "outputs": [],
   "source": [
    "%matplotlib inline\n",
    "%config InlineBackend.figure_format = \"retina\"\n",
    "plt.rcParams['figure.figsize'] = (9,6)"
   ]
  },
  {
   "cell_type": "code",
   "execution_count": null,
   "metadata": {
    "lines_to_next_cell": 2
   },
   "outputs": [],
   "source": [
    "n = 2000\n",
    "seuil = 0.25\n",
    "rng = np.random.RandomState(1234)\n",
    "X1  = rng.rand(n)\n",
    "X2  = rng.rand(n)\n",
    "U   = rng.rand(n)\n",
    "Y   = np.zeros(n, dtype=np.uint8)"
   ]
  },
  {
   "cell_type": "code",
   "execution_count": null,
   "metadata": {},
   "outputs": [],
   "source": [
    "Y[(X1 <= 0.25) & (U  <= seuil)] = 1\n",
    "Y[(X1 >  0.25) & (X2 >= 0.75) & (U <= seuil)] = 1\n",
    "Y[(X1 >  0.25) & (X2 <  0.75) & (U >  seuil)] = 1"
   ]
  },
  {
   "cell_type": "code",
   "execution_count": null,
   "metadata": {},
   "outputs": [],
   "source": [
    "plt.axes().set_aspect(\"equal\")\n",
    "plt.scatter(X1, X2, c=Y)"
   ]
  },
  {
   "cell_type": "code",
   "execution_count": null,
   "metadata": {
    "lines_to_next_cell": 2
   },
   "outputs": [],
   "source": []
  }
 ],
 "metadata": {
  "jupytext": {
   "cell_metadata_filter": "-all",
   "encoding": "# coding: utf-8",
   "executable": "/usr/bin/env python",
   "formats": "py:light,notebooks//ipynb"
  },
  "kernelspec": {
   "display_name": "Python 3",
   "language": "python",
   "name": "python3"
  }
 },
 "nbformat": 4,
 "nbformat_minor": 4
}
