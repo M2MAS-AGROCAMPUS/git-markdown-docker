{
 "cells": [
  {
   "cell_type": "markdown",
   "metadata": {},
   "source": [
    "# Git\n",
    "\n",
    "Git est un logiciel de gestion de versions.\n",
    "\n",
    "Site officiel https://git-scm.com\n",
    "\n",
    "Le livre en français https://git-scm.com/book/fr/v2"
   ]
  },
  {
   "cell_type": "markdown",
   "metadata": {},
   "source": [
    "## Pourquoi un gestionnaire de version\n",
    "\n",
    "- Toutes les modifications sont enregistrées.\n",
    "- A tout moment vous pouvez revenir sur une version précédente.\n",
    "- Vous pouvez l'utiliser pour quasiment tous les types de fichier.\n",
    "- C'est la meilleure approche pour collaborer sur un document tex.\n",
    "- Chaque modification est identifiée et datée.\n",
    "- Ne convient pas aux fichiers volumineux souvent modifiés\n",
    "- N'est pas adapté aux formats non lisibles en mode texte comme le pdf, word ou excel."
   ]
  },
  {
   "cell_type": "markdown",
   "metadata": {},
   "source": [
    "## GitHub\n",
    "\n",
    "- Service web appartenant à Microsoft utilisant Git comme gestionnaire de version. \n",
    "- Github permet de collaborer toutes les étapes de développement d'un logiciel ou de la rédaction d'un document au format texte au cours du temps.\n",
    "- Github permet d'organiser cette collaboration avec différents niveaux d'accès, la gestion des bugs, l'hébergement de la documentation et une mécanisme d'intégration continue.\n",
    "- Github est la plus grande bibliothèque de codes du monde et on y retrouve les meilleures développeurs.\n",
    "- Fonctionne de plus en plus comme un réseau social et offre une grande visibilité à vos travaux.\n",
    "\n",
    "Service équivalent: [Bitbucket](https://bitbucket.org)\n",
    "\n",
    "## Gitlab\n",
    "\n",
    "- Forge officielle : [Gitlab.com](https://about.gitlab.com) \n",
    "- Gitlab permet d'herberger sa propre instance.\n",
    "- Beaucoup d'institutions proposent des instances Gitlab\n",
    "   * PLM <https://plmlab.math.cnrs.fr> (pages, CI)\n",
    "   * INRIA <https://gitlab.inria.fr> (pages, CI)\n",
    "   * Université de Rennes 1 <https://gitlab.univ-rennes1.fr> (~~pages~~, ~~CI~~)\n",
    "   * INSA Rennes <https://gitlab.insa-rennes.fr>(~~pages~~, ~~CI~~)"
   ]
  },
  {
   "cell_type": "markdown",
   "metadata": {},
   "source": [
    "## Gestion distribuée des versions\n",
    "\n",
    "<img src=\"images/git.png\" alt=\"git\" class=\"bg-primary\" width=\"300px\"/>\n",
    "\n",
    "- Chaque membre du projet possède une copie totale du projet\n",
    "- On peut contribuer seul ou à plusieurs.\n",
    "- Pas besoin de connexion réseau\n",
    "- Les sauvegardes sont très nombreuses grâce à ce système."
   ]
  },
  {
   "cell_type": "markdown",
   "metadata": {},
   "source": [
    "## Installation et configuration\n",
    "\n",
    "- Télécharger et installer [Git](http://git-scm.com).\n",
    "- Configuration: Il faut renseigner votre identité avec votre adresse de messagerie. \n",
    "\n",
    "Ouvrir la console « Git bash »:"
   ]
  },
  {
   "cell_type": "markdown",
   "metadata": {},
   "source": [
    "```bash\n",
    "git config --global user.name “Pierre Navaro\"\n",
    "git config --global user.email “pierre.navaro@univ-rennes1.fr`\n",
    "```"
   ]
  },
  {
   "cell_type": "markdown",
   "metadata": {},
   "source": [
    "Utiliser la même adresse que pour votre compte GitHub. Verifier la configuration avec:"
   ]
  },
  {
   "cell_type": "markdown",
   "metadata": {},
   "source": [
    "```bash\n",
    "git config --list\n",
    "```"
   ]
  },
  {
   "cell_type": "markdown",
   "metadata": {},
   "source": [
    "## Créer sa clé SSH\n",
    "\n",
    "Saisissez la ligne suivante dans le git bash:"
   ]
  },
  {
   "cell_type": "markdown",
   "metadata": {},
   "source": [
    "```bash\n",
    "ssh-keygen\n",
    "```"
   ]
  },
  {
   "cell_type": "markdown",
   "metadata": {},
   "source": [
    "Valider les questions suivantes :\n",
    "\n",
    "```\n",
    "Enter file in which to save the key (/****/****/.ssh/id_rsa):\n",
    "```\n",
    "appuyer sur « enter » ou saisir le nom du certificat puis « enter »\n",
    "\n",
    "```\n",
    "Enter passphrase (empty for no passphrase):\n",
    "```\n",
    "\n",
    "Appuyer sur \"enter\" (conseillé) ou saisir un mot de passe.  Deux fichiers on été créés : un clé publique et une clé privée. La clé publique sera celle que l'on pourra partager et la clé privée ne doit être communiquée sous aucun prétexte, elle est comme un mot de passe. Si vous la perdez vous devrez recommencer la procédure."
   ]
  },
  {
   "cell_type": "markdown",
   "metadata": {
    "lines_to_next_cell": 0
   },
   "source": [
    "## Créer votre compte GitHub et GitLab\n",
    "\n",
    "GitHub: Il suffit de cliquer en haut à droite sur `Sign Up`. Ajouter votre clé publique dans votre profile (Settings -> SSH and GPG keys -> New SSH key)\n",
    "\n",
    "Gitlab: En haut à droite, dans le profile il y a un menu `Settings` qui contient un onglet `SSH Keys`.\n",
    "\n",
    "## Clonage d'un dépôt git"
   ]
  },
  {
   "cell_type": "markdown",
   "metadata": {
    "lines_to_next_cell": 0
   },
   "source": [
    "```bash\n",
    "git clone git@plmlab.math.cnrs.fr:irmar/git-markdown-docker.git\n",
    "ls git-markdown-docker\n",
    "```"
   ]
  },
  {
   "cell_type": "markdown",
   "metadata": {},
   "source": [
    "Vous aurez une copie de ces transparents sur votre ordinateur.\n",
    "\n",
    "## Mettre en place un dépôt git local\n",
    "\n",
    "Créons un nouveau répertoire où nous nous allons ajouter un fichier README:"
   ]
  },
  {
   "cell_type": "markdown",
   "metadata": {},
   "source": [
    "```bash\n",
    "cd $HOME\n",
    "mkdir monprojet\n",
    "cd monprojet\n",
    "touch README.md\n",
    "echo \"# Mon Projet \" >> README.md\n",
    "ls\n",
    "```"
   ]
  },
  {
   "cell_type": "markdown",
   "metadata": {
    "lines_to_next_cell": 0
   },
   "source": [
    "Création du dépôt git:"
   ]
  },
  {
   "cell_type": "markdown",
   "metadata": {
    "lines_to_next_cell": 2
   },
   "source": [
    "```bash\n",
    "git init\n",
    "git status\n",
    "```"
   ]
  },
  {
   "cell_type": "markdown",
   "metadata": {},
   "source": [
    "## Ajouter un fichier dans l'index"
   ]
  },
  {
   "cell_type": "markdown",
   "metadata": {},
   "source": [
    "```bash\n",
    "touch index.m`\n",
    "```"
   ]
  },
  {
   "cell_type": "markdown",
   "metadata": {},
   "source": [
    "```bash\n",
    "git status\n",
    "```"
   ]
  },
  {
   "cell_type": "markdown",
   "metadata": {},
   "source": [
    "La commande `add` est nécessaire pour un nouveau fichier mais aussi pour un fichier qui a été modifié."
   ]
  },
  {
   "cell_type": "markdown",
   "metadata": {},
   "source": [
    "```bash\n",
    "git add index.md\n",
    "echo \"# Titre du projet\" >> index.md\n",
    "```"
   ]
  },
  {
   "cell_type": "markdown",
   "metadata": {},
   "source": [
    "```bash\n",
    "git status\n",
    "```"
   ]
  },
  {
   "cell_type": "markdown",
   "metadata": {},
   "source": [
    "## Validation et sauvegarde (commit)"
   ]
  },
  {
   "cell_type": "markdown",
   "metadata": {},
   "source": [
    "```bash\n",
    "git commit -m 'Create the file index.md'\n",
    "```"
   ]
  },
  {
   "cell_type": "markdown",
   "metadata": {},
   "source": [
    "```bash\n",
    "git status\n",
    "```"
   ]
  },
  {
   "cell_type": "markdown",
   "metadata": {},
   "source": [
    "## Les différents états des fichiers dans la copie du dépôt\n",
    "  \n",
    "<img src=\"images/18333fig0201-tn.png\" class=\"bg-primary\" alt=\"git\" width=\"450px\"/>\n",
    "\n",
    "## Mettre le dépôt sur GitHub\n",
    "\n",
    "Créer un dépot github, que nous appelerons `mon_projet` :\n",
    "- Cliquer sur le '+' en haut à droite et \"New repository\"\n",
    "- Repository name = \"mon_projet\"\n",
    "- Laisser les options par défaut\n",
    "- Cliquer sur \"Create repository\""
   ]
  },
  {
   "cell_type": "markdown",
   "metadata": {
    "lines_to_next_cell": 0
   },
   "source": [
    "```bash\n",
    "git remote add origin git@github.com:{GITHUB_LOGIN}/mon_projet.git\n",
    "git push -u origin master\n",
    "```"
   ]
  },
  {
   "cell_type": "markdown",
   "metadata": {},
   "source": [
    "Remplacer `{GITHUB_LOGIN}` par votre login github."
   ]
  },
  {
   "cell_type": "markdown",
   "metadata": {},
   "source": [
    "```bash\n",
    "git status\n",
    "```"
   ]
  },
  {
   "cell_type": "markdown",
   "metadata": {},
   "source": [
    "## Synchroniser avec la version distante sur le dépôt\n",
    "\n",
    "Vous pouvez modifier les fichiers directement sur le site GitHub.\n",
    "La commande suivante permet de rappatrier toutes les modifications sur le dépôt distant (remote) sans modifier\n",
    "votre version locale. Toutes les branches commencant par \"origin/\\*\" seront mises à jour."
   ]
  },
  {
   "cell_type": "markdown",
   "metadata": {},
   "source": [
    "```bash\n",
    "git fetch origin\n",
    "```"
   ]
  },
  {
   "cell_type": "markdown",
   "metadata": {},
   "source": [
    "```bash\n",
    "git branch -`\n",
    "```"
   ]
  },
  {
   "cell_type": "markdown",
   "metadata": {},
   "source": [
    "```bash\n",
    "git status\n",
    "```"
   ]
  },
  {
   "cell_type": "markdown",
   "metadata": {},
   "source": [
    "## Mettre à jour le dépôt distant\n",
    "\n",
    "Modifier ou créer un fichier et effectuer un nouveau commit.\n",
    "\n",
    "Votre `commit` sera téléversé sur le serveur git\n",
    "- `origin` correspond au dépôt distant\n",
    "- `master` la branche que vous souhaitez mettre à jour\n",
    "\n",
    "par défaut vous êtes sur la branche \"master\""
   ]
  },
  {
   "cell_type": "markdown",
   "metadata": {},
   "source": [
    "```bash\n",
    "git branch -`\n",
    "```"
   ]
  },
  {
   "cell_type": "markdown",
   "metadata": {},
   "source": [
    "\"Pousser\" vos fichiers sur le serveur."
   ]
  },
  {
   "cell_type": "markdown",
   "metadata": {},
   "source": [
    "```bash\n",
    "git push origin master\n",
    "```"
   ]
  },
  {
   "cell_type": "markdown",
   "metadata": {},
   "source": [
    "## Git Workflow\n",
    "\n",
    "<img src=\"images/fourstages.png\" alt=\"git\" width=\"150px\"/>\n",
    "\n",
    "## Fusionner la branche distante avec la branche locale\n",
    "\n",
    "Si la version distante est en avance sur la version locale, il existe différentes manières de récupérer les modifications:"
   ]
  },
  {
   "cell_type": "markdown",
   "metadata": {},
   "source": [
    "```bash\n",
    "git fetch origin\n",
    "git merge origin/master\n",
    "```"
   ]
  },
  {
   "cell_type": "markdown",
   "metadata": {},
   "source": [
    "Les deux étapes précédentes peuvent être effectuées en une seule commande avec"
   ]
  },
  {
   "cell_type": "markdown",
   "metadata": {},
   "source": [
    "```bash\n",
    "git pull origin master\n",
    "```"
   ]
  },
  {
   "cell_type": "markdown",
   "metadata": {},
   "source": [
    "Je déconseille cette approche car avec le `git fetch` on peut anticiper des conflits avec"
   ]
  },
  {
   "cell_type": "markdown",
   "metadata": {
    "lines_to_next_cell": 0
   },
   "source": [
    "```bash\n",
    "git diff origin/master\n",
    "```"
   ]
  },
  {
   "cell_type": "markdown",
   "metadata": {},
   "source": [
    "ou en version graphique si l'outil est installé sur votre poste:"
   ]
  },
  {
   "cell_type": "markdown",
   "metadata": {},
   "source": [
    "```bash\n",
    "git difftool origin/master\n",
    "```"
   ]
  },
  {
   "cell_type": "markdown",
   "metadata": {},
   "source": [
    "## Résoudre les conflits\n",
    "\n",
    "- Cette outil permet de choisir les modifications lorsqu'un fichier a été modifié au même endroit."
   ]
  },
  {
   "cell_type": "markdown",
   "metadata": {},
   "source": [
    "```bash\n",
    "git mergetool\n",
    "```"
   ]
  },
  {
   "cell_type": "markdown",
   "metadata": {},
   "source": [
    "- En cas de problèmes sur un fichier, vous pouvez annuler toutes les modifications non validées par un *commit* avec :"
   ]
  },
  {
   "cell_type": "markdown",
   "metadata": {},
   "source": [
    "```bash\n",
    "git checkout mon_fichier_modif\n",
    "```"
   ]
  },
  {
   "cell_type": "markdown",
   "metadata": {},
   "source": [
    "- Si vraiment il y a de gros soucis"
   ]
  },
  {
   "cell_type": "markdown",
   "metadata": {},
   "source": [
    "```bash\n",
    "git reset --hard\n",
    "```"
   ]
  },
  {
   "cell_type": "markdown",
   "metadata": {},
   "source": [
    "Attention cette dernière commande, annule tous les changements qui n'ont pas été validés par un *commit*.\n",
    "\n"
   ]
  },
  {
   "cell_type": "markdown",
   "metadata": {},
   "source": [
    "## Afficher les branches"
   ]
  },
  {
   "cell_type": "markdown",
   "metadata": {},
   "source": [
    "```bash\n",
    "git branch -a\n",
    "```"
   ]
  },
  {
   "cell_type": "markdown",
   "metadata": {},
   "source": [
    "## Créer une branche\n",
    "\n",
    "Permet de \"figer\" une version personnelle locale sur laquelle vous pouvez travailler sans modifier la branche principale \"master\"."
   ]
  },
  {
   "cell_type": "markdown",
   "metadata": {},
   "source": [
    "```bash\n",
    "git branch mabranche\n",
    "git checkout mabranche\n",
    "git branch\n",
    "```"
   ]
  },
  {
   "cell_type": "markdown",
   "metadata": {},
   "source": [
    "Des fichiers peuvent être différents ou meme inexsitants dans deux branches distinctes mais ils se trouveront au même endroit dans le système de fichiers."
   ]
  },
  {
   "cell_type": "markdown",
   "metadata": {},
   "source": [
    "## Afficher les modifications sur un fichier"
   ]
  },
  {
   "cell_type": "markdown",
   "metadata": {},
   "source": [
    "```bash\n",
    "date >> README.md\n",
    "```"
   ]
  },
  {
   "cell_type": "markdown",
   "metadata": {},
   "source": [
    "```bash\n",
    "git status\n",
    "```"
   ]
  },
  {
   "cell_type": "markdown",
   "metadata": {},
   "source": [
    "```bash\n",
    "git diff\n",
    "```"
   ]
  },
  {
   "cell_type": "markdown",
   "metadata": {},
   "source": [
    "## Enregister les modifications"
   ]
  },
  {
   "cell_type": "markdown",
   "metadata": {},
   "source": [
    "```bash\n",
    "git add README.md\n",
    "```"
   ]
  },
  {
   "cell_type": "markdown",
   "metadata": {},
   "source": [
    "```bash\n",
    "git status\n",
    "```"
   ]
  },
  {
   "cell_type": "markdown",
   "metadata": {},
   "source": [
    "```bash\n",
    "git commit -m 'Add today date in README'\n",
    "```"
   ]
  },
  {
   "cell_type": "markdown",
   "metadata": {},
   "source": [
    "## Commit\n",
    "\n",
    "![index1](images/index1.png)"
   ]
  },
  {
   "cell_type": "markdown",
   "metadata": {},
   "source": [
    "## Fast commit\n",
    "![index2](images/index2.png)"
   ]
  },
  {
   "cell_type": "markdown",
   "metadata": {},
   "source": [
    "## Partager votre travail sur le serveur\n",
    "\n",
    "### Option 1 : fusionner sur la branche principale et pousser"
   ]
  },
  {
   "cell_type": "markdown",
   "metadata": {},
   "source": [
    "```bash\n",
    "git checkout master\n",
    "git merge mabranche\n",
    "git push origin master\n",
    "```"
   ]
  },
  {
   "cell_type": "markdown",
   "metadata": {},
   "source": [
    "## Partager votre travail sur le serveur"
   ]
  },
  {
   "cell_type": "markdown",
   "metadata": {},
   "source": [
    "## Option 2 : Pousser la branche locale sur le serveur"
   ]
  },
  {
   "cell_type": "markdown",
   "metadata": {},
   "source": [
    "```bash\n",
    "git checkout mabranche\n",
    "git push origin mabranche\n",
    "```"
   ]
  },
  {
   "cell_type": "markdown",
   "metadata": {},
   "source": [
    "## Mise à jour depuis le dépôt distant"
   ]
  },
  {
   "cell_type": "markdown",
   "metadata": {},
   "source": [
    "```bash\n",
    "git checkout master\n",
    "git fetch origin\n",
    "git merge origin/master\n",
    "```"
   ]
  },
  {
   "cell_type": "markdown",
   "metadata": {},
   "source": [
    "```bash\n",
    "git checkout mabranche\n",
    "git merge master\n",
    "```"
   ]
  },
  {
   "cell_type": "markdown",
   "metadata": {},
   "source": [
    "Si votre branche locale n'est pas présente sur le serveur, vous pouvez utiliser `rebase` à la place de `merge`. Cette opération permet de récrire l'historique en datant vos modifications postérieures à la dernière modification de la branche master."
   ]
  },
  {
   "cell_type": "markdown",
   "metadata": {},
   "source": [
    "## Cycle \n",
    "\n",
    "![Cycle](images/git_cycle.png)"
   ]
  },
  {
   "cell_type": "markdown",
   "metadata": {},
   "source": [
    "## Développement pour garantir la stabibité\n",
    "\n",
    "![Branches](images/lr-branches-2.png)"
   ]
  },
  {
   "cell_type": "markdown",
   "metadata": {},
   "source": [
    "## Stash\n",
    "\n",
    "Permet d'enregistrer l'état de vos fichiers sans enregistrer les modifications par un `commit`.\n",
    "Modifiez un fichier sans effectuer de commit et entrez les commandes suivantes:"
   ]
  },
  {
   "cell_type": "markdown",
   "metadata": {},
   "source": [
    "```bash\n",
    "git stash\n",
    "git stash show\n",
    "```"
   ]
  },
  {
   "cell_type": "markdown",
   "metadata": {},
   "source": [
    "### Appliquer un `stash`"
   ]
  },
  {
   "cell_type": "markdown",
   "metadata": {},
   "source": [
    "```bash\n",
    "git stash pop\n",
    "```"
   ]
  },
  {
   "cell_type": "markdown",
   "metadata": {},
   "source": [
    "### Supprimer un `stash`"
   ]
  },
  {
   "cell_type": "markdown",
   "metadata": {},
   "source": [
    "```bash\n",
    "git stash drop\n",
    "```"
   ]
  },
  {
   "cell_type": "markdown",
   "metadata": {},
   "source": [
    "## Pourquoi Git ?\n",
    "\n",
    "- Tracer et controler les modifications dans un logiciel.\n",
    "- Branches : Développement dédié pouvant fonctionner en paralléle.\n",
    "- Tout est local : Git est rapide.\n",
    "- Des sauvegardes trés nombreuses.\n",
    "- Cette distinction local-distant offre plus de sécurité\n",
    "- Le mécanisme des `pull request` favorise la relecture et est une garantie supplémentaire de stabilité."
   ]
  },
  {
   "cell_type": "markdown",
   "metadata": {},
   "source": [
    "## Pourquoi pas\n",
    "\n",
    "- Difficile à apprendre pour les utilisateurs de cvs et subversion qui sont moins puissants mais plus simples et souvent suffisants dans beaucoup de cas.\n",
    "- Syntaxe en ligne de commande un peu folle et parfois confuse.\n",
    "- Il faut parfois enchainer beaucoup d'instructions pour des opérations assez simples.\n",
    "- L'historique créé par git est parfois étrange, certaines modifications peuvent changer d'auteur.\n",
    "- On peut détruire le dépôt distant involontairement.\n",
    "- Offre beaucoup de confort au responsable de la maintenance du code au détriment des contributeurs."
   ]
  },
  {
   "cell_type": "markdown",
   "metadata": {},
   "source": [
    "## Quelques commandes utiles\n",
    "\n",
    "- Quels fichiers différent dans deux branches distinctes ?"
   ]
  },
  {
   "cell_type": "markdown",
   "metadata": {},
   "source": [
    "```bash\n",
    "git diff --name-status master..mabranche\n",
    "```"
   ]
  },
  {
   "cell_type": "markdown",
   "metadata": {},
   "source": [
    "- Comparer la version sur la branche principale avec une autre branche"
   ]
  },
  {
   "cell_type": "markdown",
   "metadata": {},
   "source": [
    "```bash\n",
    "git diff mabranche master -- intro.md\n",
    "```"
   ]
  },
  {
   "cell_type": "markdown",
   "metadata": {},
   "source": [
    "## .gitignore\n",
    "\n",
    "Si votre dépôt contient un fichier `.gitignore` avec une liste de fichiers, les modifications de ces fichiers seront ignorés par git. Je conseille de supprimer ces fichiers de l'historique avant de les ignorer.\n",
    "\n",
    "- Pour effacer tous les fichiers ignorés (à faire après un commit)"
   ]
  },
  {
   "cell_type": "markdown",
   "metadata": {
    "lines_to_next_cell": 2
   },
   "source": [
    "```bash\n",
    "git clean -xdf\n",
    "```"
   ]
  },
  {
   "cell_type": "markdown",
   "metadata": {
    "lines_to_next_cell": 0
   },
   "source": [
    "## Ignorer tous les changements et revenir au point de départ\n",
    "\n",
    "- Sur un fichier"
   ]
  },
  {
   "cell_type": "markdown",
   "metadata": {
    "lines_to_next_cell": 0
   },
   "source": [
    "```bash\n",
    "git checkout README.md\n",
    "```"
   ]
  },
  {
   "cell_type": "markdown",
   "metadata": {},
   "source": [
    "- Pour revenir au point de départ"
   ]
  },
  {
   "cell_type": "markdown",
   "metadata": {
    "lines_to_next_cell": 2
   },
   "source": [
    "```bash\n",
    "git reset --hard\n",
    "```"
   ]
  },
  {
   "cell_type": "markdown",
   "metadata": {},
   "source": [
    "## Utiliser git plus facilement\n",
    "\n",
    "- [GitHub Desktop](https://desktop.github.com/)\n",
    "- [Sourcetree](https://fr.atlassian.com/software/sourcetree)\n",
    "- [GitKraken](https://www.gitkraken.com/)\n",
    "- [Fork](https://git-fork.com)\n",
    "- [Plugin RStudio](https://www.rstudio.com/)\n",
    "- [Plugin Eclipse](https://www.eclipse.org/downloads/)\n",
    "- [Produits JetBrains](https://www.jetbrains.com/)"
   ]
  }
 ],
 "metadata": {
  "jupytext": {
   "cell_metadata_filter": "-all",
   "formats": "md,notebooks//ipynb"
  },
  "kernelspec": {
   "display_name": "Python 3",
   "language": "python",
   "name": "python3"
  }
 },
 "nbformat": 4,
 "nbformat_minor": 4
}
