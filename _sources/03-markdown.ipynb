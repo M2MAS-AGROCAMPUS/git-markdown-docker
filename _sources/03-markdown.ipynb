{
 "cells": [
  {
   "cell_type": "markdown",
   "metadata": {},
   "source": [
    "# Markdown\n",
    "\n",
    "La langage [Markdown](https://www.markdownguide.org) est un système de formatage de texte. Il est similaire au format [html](https://html.spec.whatwg.org/multipage/) utilisé pour éditer les pages hébergées sur un serveur web et le format [reStructuredText](https://docutils.sourceforge.io/rst.html) que l'on retrouve dans les wikis. \n",
    "\n",
    "Le format html utilise un système de balises qui rend le texte peu lisible. Le format rst est plus lisible avec son système de balisage plus léger. Il est utilisé notamment pour la documentation du langage Python mais son utilisation est moins répandu que le markdown."
   ]
  },
  {
   "cell_type": "markdown",
   "metadata": {},
   "source": [
    "La documentation des fonctions Julia est en markdown. Il n'y a pas de système de documentation intégré pour la langage R mais [roxygen2](https://cran.r-project.org/web/packages/roxygen2/) est le package utilisé. La syntaxe a des similarités avec [LaTeX](https://fr.wikipedia.org/wiki/LaTeX)"
   ]
  },
  {
   "cell_type": "markdown",
   "metadata": {},
   "source": [
    "Les fichiers markdown sont identifiés par la terminaison `.md`.\n",
    "\n",
    "Dans les exemples qui vont suivre, je présente les bases du langage markdown. Il faut savoir qu'il existe un grand nombre de dialectes. Github propose des fonctionalités enrichies. Pour voir toutes les possibilités, je conseille d'aller regarder la démonstration de l'éditeur en ligne [codimd](https://demo.codimd.org/features)."
   ]
  },
  {
   "cell_type": "markdown",
   "metadata": {},
   "source": [
    "## Titres\n",
    "\n",
    "Recopier le texte suivant dans une cellule en mode `markdown`. Cliquer sur la partie gauche et appuyer sur `M`. Puis exécuter avec `shift-enter`.\n",
    "\n",
    "```md\n",
    "# Chapter\n",
    "\n",
    "## Section\n",
    "\n",
    "### Sous-Section\n",
    "\n",
    "Chapter\n",
    "=========\n",
    "\n",
    "Section\n",
    "---------\n",
    "```"
   ]
  },
  {
   "cell_type": "markdown",
   "metadata": {},
   "source": [
    "## **Gras**, *italique*, `script`"
   ]
  },
  {
   "cell_type": "markdown",
   "metadata": {},
   "source": [
    "## Citation\n",
    "\n",
    "> Labore ipsum quisquam labore."
   ]
  },
  {
   "cell_type": "markdown",
   "metadata": {},
   "source": [
    "## Liste\n",
    "- Fruits\n",
    "    * Oranges\n",
    "    * Pommes\n",
    "- Légumes\n",
    "    * Aubergines\n",
    "    * Courgettes"
   ]
  },
  {
   "cell_type": "markdown",
   "metadata": {},
   "source": [
    "## Liste ordonnée\n",
    "\n",
    "1. Lundi\n",
    "2. Mardi\n",
    "3. Mercredi"
   ]
  },
  {
   "cell_type": "markdown",
   "metadata": {},
   "source": [
    "<ol>\n",
    "<li>Jeudi</li>\n",
    "<li>Vendredi</li>\n",
    "<li>Samedi</li>\n",
    "<li>Dimanche</li>\n",
    "</ol>"
   ]
  },
  {
   "cell_type": "markdown",
   "metadata": {},
   "source": [
    "## Code R\n",
    "\n",
    "```r\n",
    "y <-  c(1,2,3,4,5)\n",
    "x0 <- c(1,1,1,1,1)  \n",
    "x1 <- c(1,2,3,4,5)\n",
    "x2 <- c(1,4,5,7,9)\n",
    "Y <- as.matrix(y)\n",
    "X <- as.matrix(cbind(x0,x1,x2))\n",
    "beta = solve(crossprod(X), crossprod(X,y))\n",
    "```"
   ]
  },
  {
   "cell_type": "markdown",
   "metadata": {},
   "source": [
    "## Code Python\n",
    "\n",
    "```py\n",
    "import numpy as np\n",
    "y =  np.array((1,2,3,4,5))\n",
    "x0 = np.array((1,1,1,1,1)) \n",
    "x1 = np.array((1,2,3,4,5))\n",
    "x2 = np.array((1,4,5,7,9))\n",
    "X = np.c_[x0,x1,x2]\n",
    "Y = y[:, np.newaxis]\n",
    "beta = np.linalg.solve(X.T @ X, X.T @ Y)\n",
    "```"
   ]
  },
  {
   "cell_type": "markdown",
   "metadata": {},
   "source": [
    "## Code Julia\n",
    "\n",
    "```jl\n",
    "using LinearAlgebra\n",
    "y =  [1,2,3,4,5]\n",
    "x0 = [1,1,1,1,1]\n",
    "x1 = [1,2,3,4,5]\n",
    "x2 = [1,4,5,7,9]\n",
    "X = hcat(x0,x1,x2)\n",
    "Y = y\n",
    "beta = X'X \\ X'y\n",
    "```"
   ]
  },
  {
   "cell_type": "markdown",
   "metadata": {},
   "source": [
    "## Lignes de séparation\n",
    "\n",
    "***\n",
    "Il y a plusieurs possibilités, préférez les versions avec les espaces car cela peut être confondu avec des titres lors d'une conversion en html ou pdf.\n",
    "***\n",
    "\n",
    "```\n",
    "***\n",
    "---\n",
    "- - -\n",
    "*    *    *\n",
    "```"
   ]
  },
  {
   "cell_type": "markdown",
   "metadata": {},
   "source": [
    "## Images"
   ]
  },
  {
   "cell_type": "markdown",
   "metadata": {},
   "source": [
    "~~~\n",
    "![texte alt](https://www.agrocampus-ouest.fr/files/images/logos/header/logo-agrocampus-ouest.png \"Logo Agrocampus\")\n",
    "\n",
    "![Logo Agrocampus](https://www.agrocampus-ouest.fr/files/images/logos/header/logo-agrocampus-ouest.png)\n",
    "~~~"
   ]
  },
  {
   "cell_type": "markdown",
   "metadata": {},
   "source": [
    "![Logo Agrocampus](images/logo-agrocampus-ouest.png)"
   ]
  },
  {
   "cell_type": "markdown",
   "metadata": {},
   "source": [
    "## Liens\n",
    "\n",
    "[Lien vers le site de l'agrocampus](https://www.agrocampus-ouest.fr/f)\n",
    "\n",
    "[Lien vers le logo](images/logo-agrocampus-ouest.png \"le logo!\")"
   ]
  },
  {
   "cell_type": "markdown",
   "metadata": {},
   "source": [
    "## Tableaux\n",
    "\n",
    "Colonne 1 | Colonne 2 | Colonne 3\n",
    "--- | --- | ---\n",
    "Pomme | Banane | Orange\n",
    "1 | 2 | 3\n",
    "\n",
    "---\n",
    "\n",
    "Colonne 1 | Colonne 2 | Colonne 3\n",
    ":--- | :---: | ---:\n",
    "Pomme | Banane | Orange\n",
    "1 | 2 | 3"
   ]
  },
  {
   "cell_type": "markdown",
   "metadata": {},
   "source": [
    "## Equations\n",
    "Les mathématiques sont écrites en langage LaTeX\n",
    "\n",
    "$$\n",
    "\\text{Dist}(G):=\\bigcup_{n\\ge 0} \\text{Dist}_n(G).\n",
    "$$"
   ]
  },
  {
   "cell_type": "markdown",
   "metadata": {},
   "source": [
    "\\begin{align}\n",
    "\\frac{d x_1(t) }{dt} &= \\frac{1}{\\varepsilon}v_1(t)  &\\qquad \\frac{d v_1(t) }{dt} &= E_1(t, x(t)) + \\frac{1}{\\varepsilon}v_2(t)\\\\\n",
    "\\frac{d x_2(t) }{dt} &= \\frac{1}{\\varepsilon} v_2(t) &\\qquad \\frac{d v_2(t) }{dt} &= E_2(t, x(t)) - \\frac{1}{\\varepsilon}v_1(t)\\\\\n",
    "\\frac{d x_3(t) }{dt} &= v_3(t)                       &\\qquad \\frac{d v_3(t) }{dt} &= E_3(t, x(t)) \n",
    "\\end{align}"
   ]
  },
  {
   "cell_type": "markdown",
   "metadata": {},
   "source": [
    "$$\n",
    "\\left(\n",
    "\\begin{array}{cccccc}\n",
    "a & b & c  \\\\\n",
    "d & e & f \\\\\n",
    "g & h & i  \n",
    "\\end{array}\n",
    "\\right)\n",
    "$$"
   ]
  },
  {
   "cell_type": "markdown",
   "metadata": {},
   "source": [
    "$$\n",
    "\\begin{bmatrix}\n",
    "a & b & c \\\\\n",
    "d & e & f \\\\\n",
    "g & h & i\n",
    "\\end{bmatrix}\n",
    "$$"
   ]
  },
  {
   "cell_type": "markdown",
   "metadata": {},
   "source": [
    "Les fonctionnalités peuvent être plus riches avec des emojis par example. Voir [Mastering Markdown](https://guides.github.com/features/mastering-markdown/)"
   ]
  }
 ],
 "metadata": {
  "jupytext": {
   "cell_metadata_filter": "-all",
   "formats": "notebooks//ipynb,md:myst"
  },
  "kernelspec": {
   "display_name": "Python 3",
   "language": "python",
   "name": "python3"
  }
 },
 "nbformat": 4,
 "nbformat_minor": 4
}
