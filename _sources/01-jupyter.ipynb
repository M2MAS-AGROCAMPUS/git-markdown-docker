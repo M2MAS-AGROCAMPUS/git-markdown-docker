{
 "cells": [
  {
   "cell_type": "markdown",
   "metadata": {},
   "source": [
    "# Jupyter\n",
    "\n",
    "## Installation\n",
    "\n",
    "Pour construire note site, nous avez besoin d'une distribution Python. [Miniconda](https://conda.io/miniconda.html) est une solution légère permettant d'installer tous les packages nécessaires.\n",
    "\n",
    "Une fois installer miniconda en ayant suivi les instructions, ouvrez un terminal sur Linux/Macos ou un anaconda prompt sur Windows.\n"
   ]
  },
  {
   "cell_type": "markdown",
   "metadata": {},
   "source": [
    "### Environnement conda\n",
    "\n",
    "```bash\n",
    "git clone https://github.com/M2MAS-AGROCAMPUS/git-markdown-docker\n",
    "cd git-markdown-docker\n",
    "conda env create -n agrocampus\n",
    "```\n",
    "\n",
    "[documentation](https://conda.io/docs/using/envs.html).\n",
    "\n",
    "L'environnement est créé a partir d'un fichier nommé `environment.yml` qui contient la liste des packages dont nous avons besoin."
   ]
  },
  {
   "cell_type": "markdown",
   "metadata": {},
   "source": [
    "### Activer l'environnement conda\n",
    "\n",
    "Lorsque vous activer l'environement conda, votre configuration du terminal est modifiée et la version\n",
    "de python qui sera disponible sera celle ou tous nos packages seront installés.\n",
    "<pre>\n",
    "$ conda activate agrocampus\n",
    "(agrocampus) $ python\n",
    "Python 3.6.2 (default, Jul 17 2017, 16:44:45) \n",
    "[GCC 4.2.1 Compatible Apple LLVM 8.1.0 (clang-802.0.42)] on darwin\n",
    "Type \"help\", \"copyright\", \"credits\" or \"license\" for more information.\n",
    ">>> quit()\n",
    "</pre>\n"
   ]
  },
  {
   "cell_type": "markdown",
   "metadata": {},
   "source": [
    "## Jupyter Notebook\n",
    "\n",
    "- Le calepin Jupyter est un outil de rédaction qui permet de partager une analyse mathématique. \n",
    "- Rassembler du code informatique, du texte, des images et des formules mathématiques dans un seul document. \n",
    "- Le code informatique est modifiable et exécutable. \n",
    "- Excellent support pour travailler et surtout pour partager.\n",
    "- Jupyter comporte de nombreuses extensions et supporte [un nombre important de langages](https://github.com/jupyter/jupyter/wiki/Jupyter-kernels). \n",
    "- Logiciel libre, ouvert et totalement gratuit qui fonctionne sur tous les systèmes d'exploitation existants.\n",
    "\n",
    "Jupyter est un acronyme des 3 langages supportés à l'origine du projet: **JU**lia, **PYT**hon, et **R**"
   ]
  },
  {
   "cell_type": "markdown",
   "metadata": {},
   "source": [
    "```bash\n",
    "conda install -c conda-forge jupyter\n",
    "```"
   ]
  },
  {
   "cell_type": "markdown",
   "metadata": {},
   "source": [
    "## Raccoucis clavier\n",
    "\n",
    "- Pour afficher les commandes disponibles: `Cmd + Shift + P`\n",
    "- Exécuter une cellule\n",
    "    - 'Cmd-Enter' exécute la cellule courante \n",
    "    - 'Shift-Enter' exécute la cellule courante et passe à la suivante\n",
    "    - 'Alt-Enter' exécute la cellule et crée une nouvelle en dessous.\n",
    "    \n",
    "\n",
    "- `Esc` permet de basculer en mode \"commande\" et vous pouvez naviguer dans le document avec les flèches de votre clavier. En mode \"commande\":\n",
    "   - `A` permet d'insérer une nouvelle cellule **au dessus** de la cellule active\n",
    "   - `B` permet d'insérer une nouvelle cellule **en dessous** de la cellule active\n",
    "   - `M` bacule en mode texte (markdown), `Y` pour revenir au code\n",
    "   - `D + D` en pressant deux fois ce caractère vous effacez la cellule courante\n",
    "- \"Shift-Ctrl-M\" permet de couper une cellule en deux au niveau du curseur."
   ]
  },
  {
   "cell_type": "markdown",
   "metadata": {},
   "source": [
    "## Installation de packages Python dans Jupyter \n",
    "\n",
    "### Avec conda\n",
    "\n",
    "Pour installer `numpy` du canal *conda-forge*\n",
    "```ipython\n",
    "%conda install -c conda-forge numpy\n",
    "```\n",
    "\n",
    "### Avec pip\n",
    "\n",
    "```ipython\n",
    "%pip install numpy\n",
    "```"
   ]
  },
  {
   "cell_type": "markdown",
   "metadata": {},
   "source": [
    "## Documentation\n",
    "\n",
    "- Shift + Tab donne accès à la documentation des fonctions"
   ]
  },
  {
   "cell_type": "code",
   "execution_count": null,
   "metadata": {},
   "outputs": [],
   "source": [
    "dict"
   ]
  },
  {
   "cell_type": "markdown",
   "metadata": {},
   "source": [
    "Si vous passez la cellule suivante en *Code* et l'exécutez, la documentation apparaît dans le *pager*"
   ]
  },
  {
   "cell_type": "code",
   "execution_count": null,
   "metadata": {},
   "outputs": [],
   "source": [
    "?dict"
   ]
  },
  {
   "cell_type": "markdown",
   "metadata": {},
   "source": [
    "## Graphique (en python)\n",
    "\n",
    "la première ligne de la cellule suivante permet de tracer vos graphiques juste après l\"éxécution de la céllule."
   ]
  },
  {
   "cell_type": "code",
   "execution_count": null,
   "metadata": {},
   "outputs": [],
   "source": [
    "%matplotlib inline\n",
    "%config InlineBackend.figure_format = 'retina'\n",
    "import matplotlib.pyplot as plt\n",
    "import numpy as np"
   ]
  },
  {
   "cell_type": "code",
   "execution_count": null,
   "metadata": {},
   "outputs": [],
   "source": [
    "plt.rcParams['figure.figsize'] = (10,6)\n",
    "fig, ax = plt.subplots()\n",
    "np.random.seed(0)\n",
    "x, y = np.random.normal(size=(2, 200))\n",
    "color, size = np.random.random((2, 200))\n",
    "\n",
    "ax.scatter(x, y, c=color, s=500 * size, alpha=0.3)\n",
    "ax.grid(color='lightgray', alpha=0.7)"
   ]
  },
  {
   "cell_type": "markdown",
   "metadata": {},
   "source": [
    "## Les commandes magiques"
   ]
  },
  {
   "cell_type": "code",
   "execution_count": null,
   "metadata": {},
   "outputs": [],
   "source": [
    "%lsmagic"
   ]
  },
  {
   "cell_type": "code",
   "execution_count": null,
   "metadata": {},
   "outputs": [],
   "source": [
    "%ls"
   ]
  },
  {
   "cell_type": "code",
   "execution_count": null,
   "metadata": {},
   "outputs": [],
   "source": [
    "%%file sample.txt\n",
    "\n",
    "write the cell content to the file sample.txt.\n",
    "The file is created when you run this cell."
   ]
  },
  {
   "cell_type": "code",
   "execution_count": null,
   "metadata": {},
   "outputs": [],
   "source": [
    "%cat sample.txt"
   ]
  },
  {
   "cell_type": "code",
   "execution_count": null,
   "metadata": {},
   "outputs": [],
   "source": [
    "%%file fibonacci.py\n",
    "\n",
    "f1, f2 = 1, 1\n",
    "for n in range(10):\n",
    "    print(f1, end=',')\n",
    "    f1, f2 = f2, f1+f2"
   ]
  },
  {
   "cell_type": "code",
   "execution_count": null,
   "metadata": {},
   "outputs": [],
   "source": [
    "%run fibonacci.py"
   ]
  },
  {
   "cell_type": "code",
   "execution_count": null,
   "metadata": {},
   "outputs": [],
   "source": [
    "# %load fibonacci.py\n",
    "\n",
    "f1, f2 = 1, 1\n",
    "for n in range(10):\n",
    "    print(f1, end=',')\n",
    "    f1, f2 = f2, f1+f2\n"
   ]
  },
  {
   "cell_type": "code",
   "execution_count": null,
   "metadata": {},
   "outputs": [],
   "source": [
    "%%time\n",
    "f1, f2 = 1, 1\n",
    "for n in range(10):\n",
    "    print(f1, end=',')\n",
    "    f1, f2 = f2, f1+f2\n",
    "print()"
   ]
  },
  {
   "cell_type": "code",
   "execution_count": null,
   "metadata": {},
   "outputs": [],
   "source": [
    "%who int"
   ]
  },
  {
   "cell_type": "code",
   "execution_count": null,
   "metadata": {},
   "outputs": [],
   "source": [
    "import numpy as np\n",
    "%timeit np.random.normal(size=100)"
   ]
  },
  {
   "cell_type": "code",
   "execution_count": null,
   "metadata": {},
   "outputs": [],
   "source": [
    "from time import sleep\n",
    "def fibonacci(n):\n",
    "    f1, f2 = 1, 1\n",
    "    res = []\n",
    "    for i in range(n):\n",
    "        sleep(0.1)\n",
    "        f1, f2 = f2, f1+f2\n",
    "        res.append(f1)\n",
    "    return res"
   ]
  },
  {
   "cell_type": "code",
   "execution_count": null,
   "metadata": {},
   "outputs": [],
   "source": [
    "import IPython.core\n",
    "IPython.core.page = print"
   ]
  },
  {
   "cell_type": "code",
   "execution_count": null,
   "metadata": {},
   "outputs": [],
   "source": [
    "%prun -q -T prof.txt fibonacci(10)"
   ]
  },
  {
   "cell_type": "code",
   "execution_count": null,
   "metadata": {},
   "outputs": [],
   "source": [
    "%cat prof.txt"
   ]
  },
  {
   "cell_type": "code",
   "execution_count": null,
   "metadata": {},
   "outputs": [],
   "source": [
    "%load_ext heat"
   ]
  },
  {
   "cell_type": "code",
   "execution_count": null,
   "metadata": {},
   "outputs": [],
   "source": [
    "%%heat\n",
    "\n",
    "def fibonacci(n):\n",
    "    f1, f2 = 1, 1\n",
    "    res = []\n",
    "    for i in range(n):\n",
    "        f1, f2 = f2, f1+f2\n",
    "        res.append(f1)\n",
    "    return res\n",
    "\n",
    "fibonacci(100)"
   ]
  },
  {
   "cell_type": "code",
   "execution_count": null,
   "metadata": {},
   "outputs": [],
   "source": [
    "from tqdm.notebook import tqdm\n",
    "from time import sleep\n",
    "\n",
    "n = 10\n",
    "res = [1]\n",
    "\n",
    "for x in tqdm(range(2, n)):\n",
    "    sleep(0.5)\n",
    "    for i in range(2, x):\n",
    "        if (x % i) == 0:\n",
    "            break\n",
    "        else:\n",
    "            res.append(x)\n",
    "            break\n",
    "\n",
    "res"
   ]
  },
  {
   "cell_type": "markdown",
   "metadata": {},
   "source": [
    "## Interactivité"
   ]
  },
  {
   "cell_type": "code",
   "execution_count": null,
   "metadata": {},
   "outputs": [],
   "source": [
    "from ipywidgets import interact\n",
    "\n",
    "\n",
    "@interact(x=True, y=1.0)\n",
    "def g(x, y):\n",
    "    return (x, y)"
   ]
  },
  {
   "cell_type": "code",
   "execution_count": null,
   "metadata": {
    "lines_to_next_cell": 2
   },
   "outputs": [],
   "source": [
    "@interact(tau=(0.01, 0.2, 0.01))\n",
    "def f(tau):\n",
    "    plt.figure(2)\n",
    "    t = np.linspace(0, 1, num=1000)\n",
    "    plt.plot(t, 1 - np.exp(-t/tau), t,  np.exp(-t/tau))\n",
    "    plt.xlim(0, 1)\n",
    "    plt.ylim(0, 1)"
   ]
  },
  {
   "cell_type": "markdown",
   "metadata": {},
   "source": [
    "-"
   ]
  },
  {
   "cell_type": "markdown",
   "metadata": {},
   "source": [
    "## Remarques importantes\n",
    "\n",
    "- Un calepin Jupyter n'est pas vraiment un programme Python\n",
    "- Il s'agit d'une suite d'instructions exécutées dans un ordre particulier avec éventuellement des répétitions.\n",
    "- Avant de partager un notebook, il est préférable d'aller dans l'onglet `Kernel` et cliquer sur `Restart & Run All` et vérifier que tout ce passe bien.\n",
    "\n",
    "![](images/joelgrus_tweet.png)\n",
    "\n",
    "[@joelgrus](https://twitter.com/joelgrus/status/1290072502060740610?s=20)"
   ]
  }
 ],
 "metadata": {
  "jupytext": {
   "cell_metadata_filter": "-all",
   "encoding": "# -*- coding: utf-8 -*-",
   "formats": "py:light,notebooks//ipynb"
  },
  "kernelspec": {
   "display_name": "Python 3",
   "language": "python",
   "name": "python3"
  }
 },
 "nbformat": 4,
 "nbformat_minor": 4
}
