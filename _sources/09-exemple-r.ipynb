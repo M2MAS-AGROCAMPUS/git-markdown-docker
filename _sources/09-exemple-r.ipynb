{
 "cells": [
  {
   "cell_type": "markdown",
   "metadata": {},
   "source": [
    "# Exemple R"
   ]
  },
  {
   "cell_type": "code",
   "execution_count": null,
   "metadata": {},
   "outputs": [],
   "source": [
    "options(jupyter.plot_mimetypes = c(\"text/plain\", \"image/png\" )) "
   ]
  },
  {
   "cell_type": "code",
   "execution_count": null,
   "metadata": {
    "echo": true,
    "lines_to_next_cell": 2
   },
   "outputs": [],
   "source": [
    "n <- 2000\n",
    "seuil <- 0.25\n",
    "set.seed(1234)\n",
    "X1 <- runif(n)\n",
    "X2 <- runif(n)\n",
    "U <- runif(n)\n",
    "Y <- rep(0,n)\n",
    "Y[X1<=0.25 & U<=seuil] <- 1\n",
    "Y[X1>0.25 & X2>=0.75 & U<=seuil] <- 1\n",
    "Y[X1>0.25 & X2<0.75 & U>seuil] <- 1\n",
    "#plot(X1,X2,col=Y+1)\n",
    "donnees <- data.frame(X1,X2,Y)\n",
    "donnees$Y <- as.factor(donnees$Y)\n",
    "indapp <- 1:1500\n",
    "dapp <- donnees[indapp,]\n",
    "dtest <- donnees[-indapp,]"
   ]
  },
  {
   "cell_type": "code",
   "execution_count": null,
   "metadata": {
    "message": false,
    "warning": false
   },
   "outputs": [],
   "source": [
    "library(ggplot2)\n",
    "ggplot(donnees)+aes(x=X1,y=X2,color=Y)+geom_point()+theme_classic()"
   ]
  }
 ],
 "metadata": {
  "jupytext": {
   "cell_metadata_filter": "echo,warning,message,-all",
   "formats": "R:light,notebooks//ipynb"
  },
  "kernelspec": {
   "display_name": "R",
   "language": "R",
   "name": "ir"
  }
 },
 "nbformat": 4,
 "nbformat_minor": 4
}
