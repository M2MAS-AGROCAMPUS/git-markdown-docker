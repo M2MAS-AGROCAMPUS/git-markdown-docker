{
 "cells": [
  {
   "cell_type": "markdown",
   "metadata": {
    "slideshow": {
     "slide_type": "slide"
    }
   },
   "source": [
    "# Github Action\n",
    "\n",
    "\n",
    "Système d'exécution de code automatisé couplé avec un dépôt github, permet de :\n",
    "\n",
    "- Compiler une application\n",
    "- Exécuter des tests et vérifier le fonctionnement d'une application\n",
    "- Contruire une documentation en html ou pdf\n"
   ]
  },
  {
   "cell_type": "markdown",
   "metadata": {
    "slideshow": {
     "slide_type": "slide"
    }
   },
   "source": [
    "## Exemple \n",
    "\n",
    "Outils informatiques pour le big-data <http://pnavaro.github.io/big-data>\n",
    "\n",
    "```yaml\n",
    "name: Build and Deploy\n",
    "on:\n",
    "  push:\n",
    "    branches:\n",
    "      - master\n",
    "```"
   ]
  },
  {
   "cell_type": "markdown",
   "metadata": {
    "slideshow": {
     "slide_type": "slide"
    }
   },
   "source": [
    "```yaml\n",
    "jobs:\n",
    "  build-and-deploy:\n",
    "    runs-on: ubuntu-latest\n",
    "    steps:\n",
    "    - name: Install pandoc\n",
    "      run: |\n",
    "        sudo apt-get -yq update\n",
    "        sudo apt-get install -yq pandoc texlive-xetex texlive-fonts-extra graphviz\n",
    "    - name: Checkout\n",
    "      uses: actions/checkout@v2\n",
    "      with:\n",
    "        persist-credentials: false\n",
    "```"
   ]
  },
  {
   "cell_type": "markdown",
   "metadata": {
    "slideshow": {
     "slide_type": "slide"
    }
   },
   "source": [
    "```yaml\n",
    "    - name: Install SSH Client\n",
    "      uses: webfactory/ssh-agent@v0.2.0\n",
    "      with:\n",
    "        ssh-private-key: ${{ secrets.NBCOURSE_PRIV }}\n",
    "    - name: Set up JDK 1.8\n",
    "      uses: actions/setup-java@v1\n",
    "      with:\n",
    "        java-version: 1.8\n",
    "```       "
   ]
  },
  {
   "cell_type": "markdown",
   "metadata": {
    "slideshow": {
     "slide_type": "slide"
    }
   },
   "source": [
    "```yaml\n",
    "    - name: Download Apache Spark\n",
    "      uses: wei/wget@v1\n",
    "      with:\n",
    "        args: https://downloads.apache.org/spark/spark-3.0.0/spark-3.0.0-bin-hadoop2.7.tgz\n",
    "    - name: Install Apache Spark\n",
    "      run: tar zxf spark-3.0.0-bin-hadoop2.7.tgz\n",
    "    - uses: Actions-R-Us/default-env@v1\n",
    "      env:\n",
    "        SPARK_HOME: '/home/runner/spark-3.0.0-bin-hadoop2.7'\n",
    "```"
   ]
  },
  {
   "cell_type": "markdown",
   "metadata": {
    "slideshow": {
     "slide_type": "slide"
    }
   },
   "source": [
    "```yaml\n",
    "    - name: Install Miniconda and dependencies\n",
    "      uses: goanpeca/setup-miniconda@v1\n",
    "      with:\n",
    "        miniconda-version: \"latest\"\n",
    "        activate-environment: big-data\n",
    "        environment-file: environment.yml\n",
    "    - name: Install nbcourse\n",
    "      shell: bash -l {0}\n",
    "      run: |\n",
    "        conda run -n big-data python -m ipykernel install --user --name big-data\n",
    "        conda run -n base python -m pip install nbcourse\n",
    "    - name: Run nbcourse\n",
    "      shell: bash -l {0}\n",
    "      run: conda run -n base nbcourse -n 1\n",
    "    - name: Deploy on github\n",
    "      uses: JamesIves/github-pages-deploy-action@releases/v3\n",
    "      with:\n",
    "        SSH: true\n",
    "        BRANCH: gh-pages\n",
    "        FOLDER: build\n",
    "```"
   ]
  },
  {
   "cell_type": "markdown",
   "metadata": {
    "slideshow": {
     "slide_type": "slide"
    }
   },
   "source": [
    "## Création d'une paire de clés public/privée\n",
    "\n",
    "```bash\n",
    "ssh-keygen -N \"\" -f ma_cle\n",
    "```\n",
    "\n",
    "2 fichiers sont créés, la clé privée: ma_cle, et la clé publique ma_cle.pub.\n",
    "\n",
    "Aller sur GitHub et votre dépôt, dans l'onglet `Settings > Secret` puis `Add new secret`,\n",
    "Nommé le secret `NBCOURSE_PRIV` et copier le contenu de la clé privée.\n",
    "\n",
    "Dans l'onglet `Settings > Deploy keys` cliquer sur `Add deploy key`,\n",
    "Nommé la clé `NBCOURSE_PUB` et copier le contenu de la clé publique (ma_cle.pub).\n",
    "\n",
    "**IMPORTANT** : Cocher la case à coté de `Enable write access`.\n",
    "\n"
   ]
  }
 ],
 "metadata": {
  "celltoolbar": "Slideshow",
  "kernelspec": {
   "display_name": "Python 3",
   "language": "python",
   "name": "python3"
  },
  "language_info": {
   "codemirror_mode": {
    "name": "ipython",
    "version": 3
   },
   "file_extension": ".py",
   "mimetype": "text/x-python",
   "name": "python",
   "nbconvert_exporter": "python",
   "pygments_lexer": "ipython3",
   "version": "3.8.5"
  }
 },
 "nbformat": 4,
 "nbformat_minor": 4
}
