{
 "cells": [
  {
   "cell_type": "markdown",
   "metadata": {
    "slideshow": {
     "slide_type": "slide"
    }
   },
   "source": [
    "# Github Action\n",
    "\n",
    "\n",
    "Système d'exécution de code automatisé couplé avec un dépôt github, permet de :\n",
    "\n",
    "- Compiler une application\n",
    "- Exécuter des tests et vérifier le fonctionnement d'une application\n",
    "- Contruire une documentation en html ou pdf\n"
   ]
  },
  {
   "cell_type": "markdown",
   "metadata": {
    "slideshow": {
     "slide_type": "slide"
    }
   },
   "source": [
    "## Creation du JupyterBook\n",
    "\n",
    "Pour générer le site web <https://m2mas-agrocampus.github.io/git-markdown-docker>\n",
    "\n",
    "J'utilise les GitHub actions et voici le script placé dans le répertoire\n",
    "`.github/workflows/`"
   ]
  },
  {
   "cell_type": "markdown",
   "metadata": {
    "slideshow": {
     "slide_type": "slide"
    }
   },
   "source": [
    "Cette action se déclenche pour chaque `push` sur la branche `master`\n",
    "\n",
    "```yaml\n",
    "name: Build and Deploy\n",
    "on:\n",
    "  push:\n",
    "    branches:\n",
    "      - master\n",
    "```"
   ]
  },
  {
   "cell_type": "markdown",
   "metadata": {},
   "source": [
    "- Le `runner` choisi est une VM ubuntu, attention beaucoup de logiciels sont déjà installés. Voir https://github.com/actions/virtual-environments/blob/main/images/linux/Ubuntu1804-README.md\n",
    "- Nous avons besoin de `pandoc` pour transformer le `markdown` en `html`\n",
    "- `Checkout` permet de copier le dépôt sur le `runner`\n",
    "- Nous avons besoin de Julia et d'installer quelques packages\n",
    "- Miniconda est déjà installé, utilisons le fichier `environment.yml` pour installer les dépendances.\n",
    "- L'ensemble des fichiers `html` créés par `jupyter-book` est \"poussé\" sur la branche `gh-pages`"
   ]
  },
  {
   "cell_type": "markdown",
   "metadata": {
    "slideshow": {
     "slide_type": "slide"
    }
   },
   "source": [
    "```yaml\n",
    "jobs:\n",
    "  build-and-deploy:\n",
    "    runs-on: ubuntu-latest\n",
    "    steps:\n",
    "    - name: Install pandoc\n",
    "      run: |\n",
    "        sudo apt-get -yq update\n",
    "        sudo apt-get install -yq pandoc texlive-xetex texlive-fonts-extra inkscape\n",
    "    - name: Checkout\n",
    "      uses: actions/checkout@v2\n",
    "      with:\n",
    "        persist-credentials: false\n",
    "    - name: Install Julia\n",
    "      run: julia -e 'using Pkg; Pkg.add([\"IJulia\",\"Plots\",\"StatsPlots\",\"DataFrames\"]); Pkg.build(\"IJulia\")'\n",
    "    - name: Install Miniconda\n",
    "      uses: goanpeca/setup-miniconda@v1\n",
    "      with:\n",
    "        miniconda-version: \"latest\"\n",
    "    - name: Install dependencies\n",
    "      shell: bash -l {0}\n",
    "      run: |\n",
    "        conda env update -f environment.yml -n runenv\n",
    "        conda run -n runenv python -m ipykernel install --user --name python3\n",
    "        conda run -n runenv make\n",
    "        conda run -n runenv Rscript -e 'IRkernel::installspec() '\n",
    "    - name: Run jupyterbook\n",
    "      shell: bash -l {0}\n",
    "      run: conda run -n runenv jupyter-book build notebooks\n",
    "    - name: Deploy\n",
    "      uses: peaceiris/actions-gh-pages@v3.6.1\n",
    "      with:\n",
    "        github_token: ${{ secrets.GITHUB_TOKEN }}\n",
    "        publish_dir: notebooks/_build/html\n",
    "```"
   ]
  },
  {
   "cell_type": "code",
   "execution_count": null,
   "metadata": {},
   "outputs": [],
   "source": []
  }
 ],
 "metadata": {
  "jupytext": {
   "formats": "md,notebooks//ipynb"
  },
  "kernelspec": {
   "display_name": "Python 3",
   "language": "python",
   "name": "python3"
  }
 },
 "nbformat": 4,
 "nbformat_minor": 4
}
