{
 "cells": [
  {
   "cell_type": "markdown",
   "metadata": {
    "slideshow": {
     "slide_type": "slide"
    }
   },
   "source": [
    "# Binder \n",
    "\n",
    "- Service d'hébergement temporaire pour partager une application en ligne gratuitement"
   ]
  },
  {
   "cell_type": "markdown",
   "metadata": {
    "slideshow": {
     "slide_type": "slide"
    }
   },
   "source": [
    "## Preparer son dépôt github pour Binder\n",
    "\n",
    "Les fichiers de configuration\n",
    "\n",
    "- Dockerfile\n",
    "- environment.yml  (Python/R)\n",
    "- requirements.txt (Python)\n",
    "- apt.txt  (paquets ubuntu)      \n",
    "- postBuild # script à exécuter après construction de l'image\n",
    "- Project.toml # Julia\n",
    "- runtime.txt # R\n",
    "- install.R # R\n"
   ]
  },
  {
   "cell_type": "markdown",
   "metadata": {
    "slideshow": {
     "slide_type": "slide"
    }
   },
   "source": [
    "### environment.yml\n",
    "\n",
    "Fichier pour conda environment (https://conda.io/docs/).\n",
    "\n",
    "Exemple\n",
    "~~~yaml\n",
    "channels:\n",
    "  - conda-forge\n",
    "  - defaults\n",
    "dependencies:\n",
    "  - matplotlib\n",
    "  - pip\n",
    "  - pip:\n",
    "    - nbcourse\n",
    "~~~"
   ]
  },
  {
   "cell_type": "markdown",
   "metadata": {
    "slideshow": {
     "slide_type": "slide"
    }
   },
   "source": [
    "### requirements.txt\n",
    "\n",
    "Fichier pour installer une liste de paquets Python avec pip\n",
    "\n",
    "Exemple\n",
    "\n",
    "~~~\n",
    "numpy==1.11\n",
    "matplotlib==2.1\n",
    "scipy\n",
    "~~~"
   ]
  },
  {
   "cell_type": "markdown",
   "metadata": {
    "slideshow": {
     "slide_type": "slide"
    }
   },
   "source": [
    "### apt.txt\n",
    "\n",
    "Liste de paquets à installer. L'image de base est la dernière version ubuntu\n",
    "\n",
    "Exemple\n",
    "\n",
    "~~~\n",
    "ffmpeg\n",
    "graphviz\n",
    "~~~"
   ]
  },
  {
   "cell_type": "markdown",
   "metadata": {
    "slideshow": {
     "slide_type": "slide"
    }
   },
   "source": [
    "### postBuild\n",
    "\n",
    "Script à exécuter après la construction de l'image.\n",
    "\n",
    "Exemple:\n",
    "\n",
    "~~~\n",
    "#!/bin/bash\n",
    "wget <url-to-dataset>\n",
    "python myfile.py\n",
    "~~~\n",
    "\n",
    "Note:\n",
    "Le fichier doit être éxécutable\n",
    "```"
   ]
  },
  {
   "cell_type": "markdown",
   "metadata": {
    "slideshow": {
     "slide_type": "slide"
    }
   },
   "source": [
    "## Démarrer Binder\n",
    "\n",
    "- Aller sur <https://mybinder.org> et copier-coller l'adresse de votre dépôt git. \n",
    "- Cliquer sur `Launch`. \n",
    "- Une nouvelle image sera construite uniquement si votre dépôt a été modifié.\n"
   ]
  },
  {
   "cell_type": "markdown",
   "metadata": {
    "slideshow": {
     "slide_type": "slide"
    }
   },
   "source": [
    "## JupyterLab + Binder\n",
    "\n",
    "1. Launch a Binder instance\n",
    "\n",
    "Par défaut vous aurez un accès à un serveur jupyter classique."
   ]
  },
  {
   "cell_type": "markdown",
   "metadata": {
    "slideshow": {
     "slide_type": "fragment"
    }
   },
   "source": [
    "2. Remplacer `tree` par `lab`\n",
    "```\n",
    "https://hub.mybinder.org/user/pnavaro/agrocampus/tree\n",
    "```\n"
   ]
  },
  {
   "cell_type": "markdown",
   "metadata": {
    "slideshow": {
     "slide_type": "fragment"
    }
   },
   "source": [
    "3. That’s it!\n",
    "```\n",
    "https://hub.mybinder.org/user/groupecalcul-canum-2018-la7iw4x1/lab\n",
    "```"
   ]
  },
  {
   "cell_type": "markdown",
   "metadata": {
    "slideshow": {
     "slide_type": "slide"
    }
   },
   "source": [
    "## Exemple avec R\n",
    "\n",
    "runtime.txt:\n",
    "```\n",
    "r-<YYYY>-<MM>-<DD`\n",
    "```\n",
    "\n",
    "https://github.com/binder-examples/r"
   ]
  },
  {
   "cell_type": "markdown",
   "metadata": {
    "slideshow": {
     "slide_type": "fragment"
    }
   },
   "source": [
    "Fichier `install.R` pour les dépendances:\n",
    "    \n",
    "```R\n",
    "install.packages(\"tidyverse\")\n",
    "install.packages(\"rmarkdown\")\n",
    "install.packages(\"httr\")\n",
    "install.packages(\"shinydashboard\")\n",
    "install.packages('leaflet')\n",
    "```"
   ]
  },
  {
   "cell_type": "markdown",
   "metadata": {
    "slideshow": {
     "slide_type": "slide"
    }
   },
   "source": [
    " ## Remarques\n",
    " \n",
    " - Tout ce qui se passe dans une application binder est détruit au bout de quelques minutes d'inactivité\n",
    " - Ne laissez aucune information sensible dans une image binder (identifiants, mot de passe, liste d'emails, ...)\n",
    " - Le maximum de connexions simultannées est 100\n",
    " - Vous avez 1Go de RAM garanti et cela peut aller jusqu'à 4Go\n",
    " - Si vous restez actif, vous pouvez utiliser une session biender pendant 12 heures\n",
    " - Ne faites aucun push vers github depuis une session binder\n",
    " - Vous pouvez également déposer vos fichiers de configuration dans un répertoire nommé `binder`."
   ]
  },
  {
   "cell_type": "markdown",
   "metadata": {
    "slideshow": {
     "slide_type": "slide"
    }
   },
   "source": [
    "## Examples\n",
    "\n",
    "Beaucoup d'exemples sont disponibles pour Python, R, Latex, conda, docker...\n",
    "\n",
    "<http://mybinder.readthedocs.io/en/latest/sample_repos.html>\n",
    "\n",
    "<https://github.com/binder-examples>"
   ]
  }
 ],
 "metadata": {
  "celltoolbar": "Slideshow",
  "kernelspec": {
   "display_name": "Python 3",
   "language": "python",
   "name": "python3"
  },
  "language_info": {
   "codemirror_mode": {
    "name": "ipython",
    "version": 3
   },
   "file_extension": ".py",
   "mimetype": "text/x-python",
   "name": "python",
   "nbconvert_exporter": "python",
   "pygments_lexer": "ipython3",
   "version": "3.8.5"
  }
 },
 "nbformat": 4,
 "nbformat_minor": 2
}
